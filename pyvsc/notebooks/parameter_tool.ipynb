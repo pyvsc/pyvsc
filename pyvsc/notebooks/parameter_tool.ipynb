{
 "cells": [
  {
   "cell_type": "code",
   "execution_count": 27,
   "metadata": {},
   "outputs": [],
   "source": [
    "import pyvsc\n",
    "import numpy as np\n",
    "import os\n",
    "import pandas as pd\n",
    "from matplotlib import pyplot as plt\n",
    "%matplotlib inline\n",
    "#plt.style.use('ieee.mplstyle')\n",
    "color_cycle =['#fc4f30', '#5cb85c', '#30a2da',  '#e5ae38',  '#8b8b8b'] \n",
    "k2deg = 273.15\n",
    "T_a = 40+k2deg"
   ]
  },
  {
   "cell_type": "code",
   "execution_count": null,
   "metadata": {},
   "outputs": [],
   "source": []
  },
  {
   "cell_type": "code",
   "execution_count": 25,
   "metadata": {},
   "outputs": [
    {
     "name": "stdout",
     "output_type": "stream",
     "text": [
      "[[ 1.0000e+00  1.4000e+03 -8.9600e+02  1.9600e+06 -1.2544e+06]\n",
      " [ 1.0000e+00  1.0000e+03 -1.6000e+02  1.0000e+06 -1.6000e+05]\n",
      " [ 1.0000e+00  1.3000e+03 -2.0800e+02  1.6900e+06 -2.7040e+05]\n",
      " [ 1.0000e+00  1.0000e+03 -2.0000e+01  1.0000e+06 -2.0000e+04]\n",
      " [ 1.0000e+00  1.5000e+03 -6.3750e+02  2.2500e+06 -9.5625e+05]]\n"
     ]
    }
   ],
   "source": [
    "k2deg = 273.15\n",
    "\n",
    "man_electric = {\n",
    "        'i_1':1400 ,'m_1':0.8 , 'cosphi_1':0.8,'p_igbt_1':3570 ,'p_diode_1':1046 ,\n",
    "        'i_2':1000 ,'m_2':0.8 , 'cosphi_2':0.2,'p_igbt_2':1952 ,'p_diode_2': 931 ,\n",
    "        'i_3':1300 ,'m_3':0.8 , 'cosphi_3':0.2,'p_igbt_3':2772 ,'p_diode_3':1252 ,\n",
    "        'i_4':1000 ,'m_4':0.1 , 'cosphi_4':0.2,'p_igbt_4':1882 ,'p_diode_4': 987 ,\n",
    "        'i_5':1500 ,'m_5':0.85, 'cosphi_5':0.5,'p_igbt_5':3749 ,'p_diode_5':1293 ,\n",
    "        }    \n",
    "\n",
    "man_thermal = {\n",
    "        'p_igbt':3570 ,'p_diode':1046 , 'T_igbt':125+k2deg , 'T_diode':97+k2deg , 'T_sink':57.3+k2deg, 'T_a':40.0+k2deg}\n",
    "\n",
    "\n",
    "params = pyvsc.man2param(man_electric,man_thermal)\n",
    "\n",
    "I = np.arange(100,1600,100)\n",
    "sim_e,sim_th = pyvsc.vscthmodel(I, 0.8, 1.0, 25.0+273.15, params)"
   ]
  },
  {
   "cell_type": "markdown",
   "metadata": {
    "collapsed": true
   },
   "source": [
    "### Steps\n",
    "\n",
    "1. Obtain 5 points from manufacturer simulations or experiments considering at least to power factor values\n",
    "2. Use formulation to obtain $P_{igbt}$ and $P_{diode}$ polynomios\n",
    "3. With nominal current obtain $R_{th}^{igbt}$, $R_{th}^{diode}$ and $R_{th}^{sink}$\n",
    "\n",
    "$$R_{th}^{igbt} = \\frac{T_{igbt}-T_{sink}}{P_{igbt}}$$\n",
    "\n",
    "$$R_{th}^{diode} = \\frac{T_{diode}-T_{sink}}{P_{diode}}$$\n",
    "\n",
    "$$R_{th}^{sink} = \\frac{T_{sink}-T_{a}}{P_{igbt}+P_{diode}}$$\n"
   ]
  },
  {
   "cell_type": "markdown",
   "metadata": {},
   "source": [
    "### Validation\n"
   ]
  },
  {
   "cell_type": "code",
   "execution_count": 26,
   "metadata": {
    "scrolled": false
   },
   "outputs": [
    {
     "data": {
      "image/png": "[encoded data removed]",
      "text/plain": [
       "<Figure size 720x432 with 2 Axes>"
      ]
     },
     "metadata": {},
     "output_type": "display_data"
    },
    {
     "data": {
      "text/plain": [
       "({'p_igbt': array([ 904.16418384,  915.98563127,  953.9582673 , 1018.08209192,\n",
       "         1108.35710512, 1224.78330692, 1367.36069731, 1536.08927628,\n",
       "         1730.96904385, 1952.        , 2199.18214474, 2472.51547808,\n",
       "         2772.        , 3097.63571051]),\n",
       "  'p_diode': array([ 254.49096672,  308.43708399,  367.68858954,  432.24548336,\n",
       "          502.10776545,  577.27543582,  657.74849445,  743.52694136,\n",
       "          834.61077655,  931.        , 1032.69461173, 1139.69461173,\n",
       "         1252.        , 1369.61077655])},\n",
       " {'T_igbt': array([334.63864148, 335.1093044 , 336.19378163, 337.89207318,\n",
       "         340.20417904, 343.13009922, 346.66983372, 350.82338253,\n",
       "         355.59074566, 360.9719231 , 366.96691486, 373.57572093,\n",
       "         380.79834132, 388.63477602]),\n",
       "  'T_diode': array([327.1514251 , 329.44538791, 332.05860603, 334.99107946,\n",
       "         338.2428082 , 341.81379226, 345.70403162, 349.91352629,\n",
       "         354.44227628, 359.29028158, 364.45754219, 369.94405811,\n",
       "         375.74982934, 381.87485588]),\n",
       "  'T_sink': array([317.49244673, 317.73893262, 318.10331253, 318.58558645,\n",
       "         319.18575439, 319.90381635, 320.73977232, 321.69362231,\n",
       "         322.76536631, 323.95500433, 325.26253637, 326.68796242,\n",
       "         328.2312825 , 329.89249658]),\n",
       "  'T_igbt_deg': array([ 61.48864148,  61.9593044 ,  63.04378163,  64.74207318,\n",
       "          67.05417904,  69.98009922,  73.51983372,  77.67338253,\n",
       "          82.44074566,  87.8219231 ,  93.81691486, 100.42572093,\n",
       "         107.64834132, 115.48477602]),\n",
       "  'T_diode_deg': array([ 54.0014251 ,  56.29538791,  58.90860603,  61.84107946,\n",
       "          65.0928082 ,  68.66379226,  72.55403162,  76.76352629,\n",
       "          81.29227628,  86.14028158,  91.30754219,  96.79405811,\n",
       "         102.59982934, 108.72485588]),\n",
       "  'T_sink_deg': array([44.34244673, 44.58893262, 44.95331253, 45.43558645, 46.03575439,\n",
       "         46.75381635, 47.58977232, 48.54362231, 49.61536631, 50.80500433,\n",
       "         52.11253637, 53.53796242, 55.0812825 , 56.74249658])})"
      ]
     },
     "execution_count": 26,
     "metadata": {},
     "output_type": "execute_result"
    }
   ],
   "source": [
    "fig, (ax0,ax1) = plt.subplots(nrows=2)   # creates a figure with one axe\n",
    "fig.set_size_inches(10,6)\n",
    "ax0.plot(I, sim_e['p_igbt']) \n",
    "ax0.plot(I, sim_e['p_diode']) \n",
    "\n",
    "ax1.plot(I, sim_th['T_igbt_deg']) \n",
    "ax1.plot(I, sim_th['T_diode_deg'])\n",
    "ax1.plot(I, sim_th['T_sink_deg'])\n",
    "plt.show()\n",
    "sim"
   ]
  },
  {
   "cell_type": "markdown",
   "metadata": {},
   "source": [
    "## Fuji"
   ]
  },
  {
   "cell_type": "code",
   "execution_count": 65,
   "metadata": {
    "scrolled": true
   },
   "outputs": [
    {
     "name": "stdout",
     "output_type": "stream",
     "text": [
      "[[ 1.00000000e+00  7.25810897e+01 -5.80648718e+01  5.26801459e+03\n",
      "  -4.21441167e+03]\n",
      " [ 1.00000000e+00  2.17743269e+02 -1.74194615e+02  4.74121313e+04\n",
      "  -3.79297050e+04]\n",
      " [ 1.00000000e+00  4.35486538e+02 -3.48389231e+02  1.89648525e+05\n",
      "  -1.51718820e+05]\n",
      " [ 1.00000000e+00  2.17743269e+02 -0.00000000e+00  4.74121313e+04\n",
      "  -0.00000000e+00]\n",
      " [ 1.00000000e+00  4.35486538e+02 -0.00000000e+00  1.89648525e+05\n",
      "  -0.00000000e+00]]\n"
     ]
    }
   ],
   "source": [
    "df_fp000 = pd.read_csv('./data/fuji_fp0.csv',skiprows=35)\n",
    "df_fp080 = pd.read_csv('./data/fuji_fp08.csv',skiprows=35)\n",
    "df_fp100 = pd.read_csv('./data/fuji_fp1.csv',skiprows=35)\n",
    "    \n",
    "man_electric = {\n",
    "        'i_1':df_fp100.iloc[5][0] ,'m_1':0.8,'cosphi_1':1.0,'p_igbt_1':df_fp100.iloc[5][1] ,'p_diode_1':df_fp100.iloc[5][2],\n",
    "        'i_2':df_fp100.iloc[15][0],'m_2':0.8,'cosphi_2':1.0,'p_igbt_2':df_fp100.iloc[15][1],'p_diode_2':df_fp100.iloc[15][2],\n",
    "        'i_3':df_fp100.iloc[30][0],'m_3':0.8,'cosphi_3':1.0,'p_igbt_3':df_fp100.iloc[30][1],'p_diode_3':df_fp100.iloc[30][2],\n",
    "        'i_4':df_fp000.iloc[15][0],'m_4':0.8,'cosphi_4':0.0,'p_igbt_4':df_fp000.iloc[15][1],'p_diode_4':df_fp000.iloc[15][2],\n",
    "        'i_5':df_fp000.iloc[30][0],'m_5':0.8,'cosphi_5':0.0,'p_igbt_5':df_fp000.iloc[30][1],'p_diode_5':df_fp000.iloc[30][2],\n",
    "        }    \n",
    "\n",
    "man_thermal = {\n",
    "        'p_igbt':df_fp100.iloc[25][1] ,'p_diode':df_fp100.iloc[25][2] , 'T_igbt':df_fp100.iloc[25][3]+k2deg , 'T_diode':df_fp100.iloc[25][5]+k2deg , 'T_sink':df_fp100.iloc[25][9]+k2deg, 'T_a':40.0+k2deg}\n",
    "\n",
    "\n",
    "params = pyvsc.man2param(man_electric,man_thermal)\n",
    "\n"
   ]
  },
  {
   "cell_type": "markdown",
   "metadata": {},
   "source": [
    "## Validation"
   ]
  },
  {
   "cell_type": "code",
   "execution_count": 72,
   "metadata": {
    "scrolled": true
   },
   "outputs": [
    {
     "data": {
      "image/png": "[encoded data removed]",
      "text/plain": [
       "<Figure size 720x432 with 2 Axes>"
      ]
     },
     "metadata": {},
     "output_type": "display_data"
    }
   ],
   "source": [
    "I = np.arange(0,460,10)\n",
    "sim_e,sim_th = pyvsc.vscthmodel(I, 0.8, 0.8, 40.0+273.15, params)\n",
    "\n",
    "fig, (ax0,ax1) = plt.subplots(nrows=2)   # creates a figure with one axe\n",
    "fig.set_size_inches(10,6)\n",
    "\n",
    "ax0.plot(I, sim_e['p_igbt']) \n",
    "ax0.plot(I, sim_e['p_diode']) \n",
    "ax0.plot(df_fp080[' Output Current[Arms]'], df_fp080[' T1'],'.') \n",
    "ax0.plot(df_fp080[' Output Current[Arms]'], df_fp080[' D1'],'.') \n",
    "\n",
    "ax1.plot(I, sim_th['T_igbt_deg']) \n",
    "ax1.plot(I, sim_th['T_diode_deg'])\n",
    "ax1.plot(I, sim_th['T_sink_deg'])\n",
    "\n",
    "ax1.plot(df_fp080[' Output Current[Arms]'], df_fp080[' Tj-Max(T1)'],'.') \n",
    "ax1.plot(df_fp080[' Output Current[Arms]'], df_fp080[' Tj-Max(D1)'],'.') \n",
    "ax1.plot(df_fp080[' Output Current[Arms]'], df_fp080[' Tf-Max'],'.') \n",
    "\n",
    "plt.show()\n"
   ]
  },
  {
   "cell_type": "code",
   "execution_count": 69,
   "metadata": {},
   "outputs": [
    {
     "data": {
      "text/plain": [
       "Index([' Output Current[Arms]', ' T1', ' D1', ' Tj-Max(T1)', ' Tj-Ave(T1)',\n",
       "       ' Tj-Max(D1)', ' Tj-Ave(D1)', ' Tc1-Max', ' Tc1-Ave', ' Tf-Max',\n",
       "       ' Tf-Ave'],\n",
       "      dtype='object')"
      ]
     },
     "execution_count": 69,
     "metadata": {},
     "output_type": "execute_result"
    }
   ],
   "source": [
    "df_fp100.columns"
   ]
  },
  {
   "cell_type": "code",
   "execution_count": null,
   "metadata": {},
   "outputs": [],
   "source": [
    "i_rms_fp000 = np.array(i_rms_list)\n",
    "p_igbt_fp000 = np.array(p_igbt_list)\n",
    "p_diode_fp000 = np.array(p_diode_list)\n",
    "T_igbt_fp000 = np.array(T_igbt_list)\n",
    "T_diode_fp000 = np.array(T_diode_list)\n",
    "T_sink_fp000 = np.array(T_sink_list)    \n",
    "pf_fp000 = np.array(fp_list)   \n",
    "v_out_fp000 = np.array(v_out_list)  \n",
    "print('i_rms_list ',i_rms_list)\n",
    "print('p_igbt_list ',p_igbt_list)\n",
    "print('p_diode_list ',p_diode_list)\n",
    "print('T_igbt_list ', T_igbt_list)\n",
    "print('T_diode_list ',T_diode_list)\n",
    "print('T_s_igbt_list ',T_sink_list)\n",
    "print('fp_list ',fp_list)\n",
    "\n",
    "fig, (ax0,ax1) = plt.subplots(nrows=2)   # creates a figure with one axe\n",
    "fig.set_size_inches(10,6)\n",
    "ax0.plot(i_rms_fp000, p_igbt_fp000,'.') \n",
    "ax0.plot(i_rms_fp000, p_diode_fp000,'.')\n",
    "\n",
    "ax1.plot(i_rms_fp000, T_igbt_fp000,'.') \n",
    "ax1.plot(i_rms_fp000, T_diode_fp000,'.') \n",
    "ax1.plot(i_rms_fp000, T_sink_fp000,'.') \n",
    "plt.show()"
   ]
  },
  {
   "cell_type": "code",
   "execution_count": 6,
   "metadata": {},
   "outputs": [
    {
     "name": "stdout",
     "output_type": "stream",
     "text": [
      "[[  1.00000000e+00   5.80000000e+01  -5.02294734e+01   3.36400000e+03\n",
      "   -2.91330946e+03]\n",
      " [  1.00000000e+00   1.15000000e+02  -9.95929214e+01   1.32250000e+04\n",
      "   -1.14531860e+04]\n",
      " [  1.00000000e+00   1.44000000e+02  -1.24707658e+02   2.07360000e+04\n",
      "   -1.79579028e+04]\n",
      " [  1.00000000e+00   7.20000000e+01  -1.24707658e+01   5.18400000e+03\n",
      "   -8.97895139e+02]\n",
      " [  1.00000000e+00   1.44000000e+02  -2.49415316e+01   2.07360000e+04\n",
      "   -3.59158055e+03]]\n",
      "R_th_igbt_sink 0.287937743191\n",
      "R_th_diode_sink 0.563829787234\n",
      "R_th_sink_a 0.186918032787\n"
     ]
    }
   ],
   "source": [
    "k2deg = 273.16\n",
    "\n",
    "low_idx_fp100 = 1\n",
    "mid_idx_fp100 = 3\n",
    "high_idx_fp100 = -1\n",
    "\n",
    "low_idx_fp000 = 0\n",
    "high_idx_fp000 = 1\n",
    "\n",
    "#i_1 = I_rms_abb_fp_100[low_idx]\n",
    "#i_2 = I_rms_abb_fp_100[mid_idx]\n",
    "#i_3 = I_rms_abb_fp_100[high_idx]\n",
    "#i_4 = I_rms_abb_fp_000[7]\n",
    "#i_5 = I_rms_abb_fp_000[14]\n",
    "#\n",
    "#\n",
    "#p_igbt_1 = PtotIGBT_abb_fp_100[low_idx]\n",
    "#p_igbt_2 = PtotIGBT_abb_fp_100[mid_idx]\n",
    "#p_igbt_3 = PtotIGBT_abb_fp_100[high_idx]\n",
    "#p_igbt_4 = PtotIGBT_abb_fp_000[7]\n",
    "#p_igbt_5 = PtotIGBT_abb_fp_000[14]\n",
    "#\n",
    "#p_diode_1 = P_diode_abb_fp_100[low_idx]\n",
    "#p_diode_2 = P_diode_abb_fp_100[mid_idx]\n",
    "#p_diode_3 = P_diode_abb_fp_100[high_idx]\n",
    "#p_diode_4 = P_diode_abb_fp_000[7]\n",
    "#p_diode_5 = P_diode_abb_fp_000[14]\n",
    "#\n",
    "#m_1 = 0.95\n",
    "#m_2 = 0.95\n",
    "#\n",
    "#cosphi_1 = 1.0\n",
    "#cosphi_2 = 0.0\n",
    "\n",
    "\n",
    "#     Iout += sh.col_values(17,7+(it-1)*13,8+(it-1)*13)\n",
    "#     VDC += sh.col_values(18,7+(it-1)*13,8+(it-1)*13)\n",
    "#     fsw  += sh.col_values(20,7+(it-1)*13,8+(it-1)*13)\n",
    "#     m  += sh.col_values(21,7+(it-1)*13,8+(it-1)*13)     \n",
    "#     cos_phi +=     sh.col_values(22,7+(it-1)*13,8+(it-1)*13) \n",
    "#     PtotRCCDiode += sh.col_values(10,7+(it-1)*13,8+(it-1)*13)\n",
    "#     PtotRCCIGBT  += sh.col_values(9,7+(it-1)*13,8+(it-1)*13)\n",
    "\n",
    "\n",
    "\n",
    "i_1 = i_rms_fp100[low_idx_fp100]\n",
    "i_2 = i_rms_fp100[mid_idx_fp100]\n",
    "i_3 = i_rms_fp100[high_idx_fp100]\n",
    "i_4 = i_rms_fp000[low_idx_fp000]\n",
    "i_5 = i_rms_fp000[high_idx_fp000]\n",
    "\n",
    "\n",
    "p_igbt_1 = p_igbt_fp100[low_idx_fp100]\n",
    "p_igbt_2 = p_igbt_fp100[mid_idx_fp100]\n",
    "p_igbt_3 = p_igbt_fp100[high_idx_fp100]\n",
    "p_igbt_4 = p_igbt_fp000[low_idx_fp000]\n",
    "p_igbt_5 = p_igbt_fp000[high_idx_fp000]\n",
    "\n",
    "p_diode_1 = p_diode_fp100[low_idx_fp100]\n",
    "p_diode_2 = p_diode_fp100[mid_idx_fp100]\n",
    "p_diode_3 = p_diode_fp100[high_idx_fp100]\n",
    "p_diode_4 = p_diode_fp000[low_idx_fp000]\n",
    "p_diode_5 = p_diode_fp000[high_idx_fp000]\n",
    "\n",
    "m_1 = np.sqrt(3)*v_out_fp100[low_idx_fp100]/800\n",
    "m_2 = np.sqrt(3)*v_out_fp100[mid_idx_fp100]/800\n",
    "m_3 = np.sqrt(3)*v_out_fp100[high_idx_fp100]/800\n",
    "m_4 = np.sqrt(3)*v_out_fp000[low_idx_fp000]/800\n",
    "m_5 = np.sqrt(3)*v_out_fp000[high_idx_fp000]/800\n",
    "\n",
    "cosphi_1 = pf_fp100[low_idx_fp100]\n",
    "cosphi_2 = pf_fp100[mid_idx_fp100]\n",
    "cosphi_3 = pf_fp100[high_idx_fp100]\n",
    "cosphi_4 = pf_fp000[low_idx_fp000]\n",
    "cosphi_5 = pf_fp000[high_idx_fp000]\n",
    "   \n",
    "\n",
    "\n",
    "man_result = [\n",
    "       [i_1,m_1,cosphi_1,p_igbt_1,p_diode_1],\n",
    "       [i_2,m_2,cosphi_2,p_igbt_2,p_diode_2],\n",
    "       [i_3,m_3,cosphi_3,p_igbt_3,p_diode_3],\n",
    "       [i_4,m_4,cosphi_4,p_igbt_4,p_diode_4],\n",
    "       [i_5,m_5,cosphi_5,p_igbt_5,p_diode_5]\n",
    "       ]\n",
    "   \n",
    "\n",
    "man_thermal = [\n",
    "              [p_igbt_fp000[high_idx_fp000],\n",
    "               p_diode_fp000[high_idx_fp000],\n",
    "               T_diode_fp000[high_idx_fp000]+k2deg,\n",
    "               T_diode_fp000[high_idx_fp000]+k2deg,\n",
    "               T_sink_fp000[high_idx_fp000]+k2deg,\n",
    "               T_a],\n",
    "              ]\n",
    "\n",
    "abc_params = man2param(man_result, man_thermal)\n",
    "\n",
    "\n",
    "R_th_igbt_sink = (T_igbt_fp100[high_idx_fp100]-T_sink_fp100[high_idx_fp100])/p_igbt_fp100[high_idx_fp100]\n",
    "R_th_diode_sink = (T_diode_fp100[high_idx_fp100]-T_sink_fp100[high_idx_fp100])/p_diode_fp100[high_idx_fp100]\n",
    "p_total = (p_igbt_fp100[high_idx_fp100]+p_diode_fp100[high_idx_fp100])\n",
    "R_th_sink_a = (T_sink_fp100[high_idx_fp100]-(T_a-k2deg))/(p_total)\n",
    "\n",
    "R_th_igbt_sink = (T_igbt_fp100[high_idx_fp100]-T_sink_fp100[high_idx_fp100])/p_igbt_fp100[high_idx_fp100]\n",
    "R_th_diode_sink = (T_diode_fp000[high_idx_fp000]-T_sink_fp000[high_idx_fp000])/p_diode_fp000[high_idx_fp000]\n",
    "p_total = (p_igbt_fp100[high_idx_fp100]+p_diode_fp100[high_idx_fp100])\n",
    "R_th_sink_a = (T_sink_fp100[high_idx_fp100]-(T_a-k2deg))/(p_total)\n",
    "\n",
    "#R_th_igbt_sink = 0.2+0.038\n",
    "#R_th_diode_sink = 0.32 \n",
    "#R_th_sink_a = 0.031*6\n",
    "\n",
    "therm_params = dict(R_th_igbt_sink = R_th_igbt_sink,\n",
    "                    R_th_diode_sink = R_th_diode_sink,\n",
    "                    R_th_sink_a = R_th_sink_a,\n",
    "                   )\n",
    "\n",
    "c_therm_params = dict(C_th_igbt  = 18,\n",
    "                      C_th_diode = 10,\n",
    "                      C_th_igbt_case = 5,\n",
    "                      C_th_diode_case = 2,\n",
    "                      C_th_sink = 6000.0)\n",
    "\n",
    "abc_params.update(c_therm_params)\n",
    "abc_params.update(therm_params)\n",
    "\n",
    "params = abc_params\n",
    "\n",
    "print('R_th_igbt_sink',R_th_igbt_sink)\n",
    "print('R_th_diode_sink',R_th_diode_sink)\n",
    "print('R_th_sink_a',R_th_sink_a)\n",
    "\n",
    "\n"
   ]
  },
  {
   "cell_type": "code",
   "execution_count": 7,
   "metadata": {},
   "outputs": [
    {
     "data": {
      "text/plain": [
       "171.0"
      ]
     },
     "execution_count": 7,
     "metadata": {},
     "output_type": "execute_result"
    }
   ],
   "source": [
    "T_igbt_fp100[high_idx_fp100]"
   ]
  },
  {
   "cell_type": "code",
   "execution_count": 8,
   "metadata": {},
   "outputs": [
    {
     "data": {
      "text/plain": [
       "array([ 36.,  94.])"
      ]
     },
     "execution_count": 8,
     "metadata": {},
     "output_type": "execute_result"
    }
   ],
   "source": [
    "p_diode_fp000"
   ]
  },
  {
   "cell_type": "code",
   "execution_count": 9,
   "metadata": {},
   "outputs": [
    {
     "data": {
      "text/plain": [
       "[[58.0, 0.8660254037844386, 1.0, 63.0, 14.0],\n",
       " [115.0, 0.8660254037844386, 1.0, 172.0, 34.0],\n",
       " [144.0, 0.8660254037844386, 1.0, 257.0, 48.0],\n",
       " [72.0, 0.8660254037844386, 0.20000000000000001, 70.0, 36.0],\n",
       " [144.0, 0.8660254037844386, 0.20000000000000001, 205.0, 94.0]]"
      ]
     },
     "execution_count": 9,
     "metadata": {},
     "output_type": "execute_result"
    }
   ],
   "source": [
    "man_result"
   ]
  },
  {
   "cell_type": "code",
   "execution_count": 10,
   "metadata": {},
   "outputs": [
    {
     "name": "stdout",
     "output_type": "stream",
     "text": [
      "{'p_diode': array([ 95.12759929]), 'p_igbt': array([ 178.98819933])}\n",
      "{'T_igbt_deg': array([ 142.78464401]), 'T_sink': array([ 364.39718584]), 'T_igbt': array([ 415.93464401]), 'T_diode_deg': array([ 144.88295991]), 'T_diode': array([ 418.03295991]), 'T_sink_deg': array([ 91.24718584])}\n"
     ]
    }
   ],
   "source": [
    "pows, temps = vscthmodel(137, (420*1.73)/800, 0.05, 40+k2deg, params)\n",
    "print(pows)\n",
    "print(temps)"
   ]
  },
  {
   "cell_type": "code",
   "execution_count": 17,
   "metadata": {},
   "outputs": [
    {
     "name": "stdout",
     "output_type": "stream",
     "text": [
      "      &      &      & Man.      & 70 & 36 & 82 & 79  &  60 \\\\\n",
      " 72 & 0.87 & 0.20 & Model     & 70 & 36 & 80 &  80 &  60 \\\\\n",
      "      &      &      & Error \\%  & 0.00 & 0.00 & 2.49 & -1.39& 0.33 \\\\\n",
      "\\midrule\n",
      "      &      &      & Man.      & 205 & 94 & 159 & 149  &  96 \\\\\n",
      " 144 & 0.87 & 0.20 & Model     & 205 & 94 & 155 &  149 &  96 \\\\\n",
      "      &      &      & Error \\%  & 0.00 & 0.00 & 2.58 & 0.08& 0.13 \\\\\n",
      "\\midrule\n",
      "      &      &      & Man.      & 231 & 47 & 159 & 128  &  92 \\\\\n",
      " 137 & 0.87 & 0.95 & Model     & 232 & 47 & 159 &  119 &  92 \\\\\n",
      "      &      &      & Error \\%  & -0.31 & -0.13 & 0.11 & 7.32& -0.11 \\\\\n",
      "\\midrule\n",
      "      &      &      & Man.      & 107 & 28 & 97 & 84  &  65 \\\\\n",
      " 87 & 0.76 & 0.95 & Model     & 105 & 28 & 95 &  80 &  65 \\\\\n",
      "      &      &      & Error \\%  & 1.96 & 0.76 & 2.06 & 4.22& 0.32 \\\\\n",
      "\\midrule\n",
      "      &      &      & Man.      & 191 & 97 & 154 & 146  &  94 \\\\\n",
      " 141 & 0.89 & 0.10 & Model     & 191 & 97 & 149 &  148 &  94 \\\\\n",
      "      &      &      & Error \\%  & -0.20 & 0.51 & 3.31 & -1.52& 0.21 \\\\\n",
      "\\midrule\n",
      "\n"
     ]
    }
   ],
   "source": [
    "fobj = open('../letter/src/table_validation_semisel.tex', 'w')\n",
    "\n",
    "table_validation = ''\n",
    "results = []\n",
    "\n",
    "\n",
    "\n",
    "for it in range(5,10):\n",
    "    sh_output = wb.sheet_by_index(it)\n",
    "    col_1 = sh_output.col_values(1,0)\n",
    "    i_rms = float(col_1[2].split(' ')[0]) \n",
    "    p_igbt = float(col_1[15].split(' ')[0])\n",
    "    p_diode = float(col_1[18].split(' ')[0])\n",
    "    t_igbt = float(col_1[23].split(' ')[0])\n",
    "    t_diode = float(col_1[24].split(' ')[0])\n",
    "    t_sink = float(col_1[21].split(' ')[0])\n",
    "    fp = float(col_1[5])\n",
    "    v_out = float(col_1[1].split(' ')[0])\n",
    "\n",
    "\n",
    "    \n",
    "    m = np.sqrt(3.0)*v_out/800\n",
    "    \n",
    "    pows, temps = vscthmodel(i_rms, m, fp, T_a, params)\n",
    "    \n",
    "    result1 = [ i_rms, m, fp, p_igbt, p_diode, t_igbt, t_diode , pows['p_igbt'],  pows['p_diode'], temps['T_diode']-273.16, temps['T_diode']-273.16]\n",
    "    \n",
    "    result1 = [    '','', '' , 'Manufacturer',   p_igbt,  p_diode, t_igbt, t_diode]\n",
    "    result2 = [ i_rms, m, fp , 'Model',          float(pows['p_igbt']),  float(pows['p_diode']), float(temps['T_diode']-273.16), float(temps['T_diode']-273.16)]\n",
    "    result3 = [   '', '', '' , 'Error  ',       100*(p_igbt-pows['p_igbt'])/p_igbt, p_diode, t_igbt, t_diode , pows['p_igbt'],  pows['p_diode'], temps['T_diode']-273.16, temps['T_diode']-273.16]\n",
    "    results += [[result1],[result2],[result3]]\n",
    "    \n",
    "    p_igbt_m =  float(pows['p_igbt'])\n",
    "    p_diode_m = float(pows['p_diode'])\n",
    "    t_igbt_m = float(temps['T_igbt']-273.16)\n",
    "    t_diode_m =  float(temps['T_diode']-273.16)\n",
    "\n",
    "    \n",
    "    t_sink_m =  float(temps['T_sink']-273.16) \n",
    "    \n",
    "    if it > 0:\n",
    "        row_1 = '      &      &      & Man.      & {:2.0f} & {:2.0f} & {:2.0f} & {:2.0f}  &  {:2.0f} \\\\\\\\'.format( p_igbt, p_diode, t_igbt, t_diode, t_sink)\n",
    "        row_2 = ' {:2.0f} & {:2.2f} & {:2.2f} & Model     & {:2.0f} & {:2.0f} & {:2.0f} &  {:2.0f} &  {:2.0f} \\\\\\\\'.format( i_rms, m, fp, p_igbt_m, p_diode_m, t_igbt_m, t_diode_m, t_sink_m)\n",
    "        row_3 = '      &      &      & Error \\\\%  & {:2.2f} & {:2.2f} & {:2.2f} & {:2.2f}& {:2.2f} \\\\\\\\'.format(100.*(p_igbt-p_igbt_m)/p_igbt, \n",
    "                                                                                                        100.0*(p_diode-p_diode_m)/p_diode,  \n",
    "                                                                                                        100.0*(t_igbt-t_igbt_m)/t_igbt, \n",
    "                                                                                                        100.*(t_diode- t_diode_m)/t_diode,\n",
    "                                                                                                        100.*(t_sink- t_sink_m)/t_sink)\n",
    "        table_validation += row_1 + '\\n'\n",
    "        table_validation += row_2 + '\\n'\n",
    "        table_validation += row_3 + '\\n'\n",
    "        table_validation += r'\\midrule' + '\\n'\n",
    "    it += 1\n",
    "#print(tabulate(results,tablefmt='latex'))\n",
    "\n",
    "fobj.write(table_validation)\n",
    "fobj.close()\n",
    "\n",
    "print(table_validation)"
   ]
  },
  {
   "cell_type": "code",
   "execution_count": null,
   "metadata": {
    "collapsed": true
   },
   "outputs": [],
   "source": []
  },
  {
   "cell_type": "code",
   "execution_count": null,
   "metadata": {
    "collapsed": true
   },
   "outputs": [],
   "source": []
  }
 ],
 "metadata": {
  "anaconda-cloud": {},
  "kernelspec": {
   "display_name": "Python 3",
   "language": "python",
   "name": "python3"
  },
  "language_info": {
   "codemirror_mode": {
    "name": "ipython",
    "version": 3
   },
   "file_extension": ".py",
   "mimetype": "text/x-python",
   "name": "python",
   "nbconvert_exporter": "python",
   "pygments_lexer": "ipython3",
   "version": "3.6.6"
  }
 },
 "nbformat": 4,
 "nbformat_minor": 1
}
